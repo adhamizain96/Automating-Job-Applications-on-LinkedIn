{
 "cells": [
  {
   "cell_type": "code",
   "execution_count": 1,
   "id": "ea42a373",
   "metadata": {},
   "outputs": [
    {
     "name": "stderr",
     "output_type": "stream",
     "text": [
      "<ipython-input-1-35c7046e5f8a>:5: DeprecationWarning: executable_path has been deprecated, please pass in a Service object\n",
      "  driver = webdriver.Chrome(executable_path)\n",
      "<ipython-input-1-35c7046e5f8a>:9: DeprecationWarning: find_element_by_* commands are deprecated. Please use find_element() instead\n",
      "  article_count = driver.find_element_by_css_selector('#articlecount a')\n"
     ]
    },
    {
     "name": "stdout",
     "output_type": "stream",
     "text": [
      "6,443,341\n"
     ]
    }
   ],
   "source": [
    "#pip install selenium - import the necessary packages - webdriver/keys\n",
    "from selenium import webdriver\n",
    "\n",
    "executable_path = ''\n",
    "driver = webdriver.Chrome(executable_path)\n",
    "driver.get('https://en.wikipedia.org/wiki/Main_Page')\n",
    "\n",
    "#<div id='articlecount'> - note - inside a div you have to put a # sign\n",
    "article_count = driver.find_element_by_css_selector('#articlecount a')\n",
    "#print(article_count.text) - 6,443,341\n",
    "\n",
    "driver.quit()"
   ]
  },
  {
   "cell_type": "code",
   "execution_count": null,
   "id": "a7f88a90",
   "metadata": {},
   "outputs": [],
   "source": []
  }
 ],
 "metadata": {
  "kernelspec": {
   "display_name": "Python 3",
   "language": "python",
   "name": "python3"
  },
  "language_info": {
   "codemirror_mode": {
    "name": "ipython",
    "version": 3
   },
   "file_extension": ".py",
   "mimetype": "text/x-python",
   "name": "python",
   "nbconvert_exporter": "python",
   "pygments_lexer": "ipython3",
   "version": "3.8.8"
  }
 },
 "nbformat": 4,
 "nbformat_minor": 5
}
