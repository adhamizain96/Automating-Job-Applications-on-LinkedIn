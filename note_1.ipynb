{
 "cells": [
  {
   "cell_type": "code",
   "execution_count": 16,
   "id": "d2155b9b",
   "metadata": {},
   "outputs": [
    {
     "name": "stderr",
     "output_type": "stream",
     "text": [
      "<ipython-input-16-300c0cd6246c>:5: DeprecationWarning: executable_path has been deprecated, please pass in a Service object\n",
      "  driver = webdriver.Chrome(executable_path)\n"
     ]
    }
   ],
   "source": [
    "#pip install selenium - import the necessary packages - webdriver/keys\n",
    "from selenium import webdriver\n",
    "\n",
    "executable_path = ''\n",
    "driver = webdriver.Chrome(executable_path)\n",
    "driver.get('https://www.python.org/')\n",
    "\n",
    "#search_bar = driver.find_element_by_name('q')\n",
    "#print(search_bar.tag_name) - input\n",
    "#print(search_bar.get_attribute('placeholder')) - search\n",
    "\n",
    "#logo = driver.find_element_by_class_name('python-logo')\n",
    "#print(logo)\n",
    "#print(logo.size) - {'height': 82, 'width': 290}\n",
    "\n",
    "#a - anchor tag\n",
    "#doc_link = driver.find_element_by_css_selector('.documentation-widget a')\n",
    "#print(doc_link)\n",
    "#print(doc_link.text) - docs.python.org\n",
    "\n",
    "#link = driver.find_element_by_xpath('//*[@id=\"site-map\"]/div[2]/div/ul/li[3]/a')\n",
    "#print(link)\n",
    "#print(link.text) - Submit Website Bug\n",
    "\n",
    "driver.quit()"
   ]
  },
  {
   "cell_type": "code",
   "execution_count": null,
   "id": "784c26d4",
   "metadata": {},
   "outputs": [],
   "source": []
  },
  {
   "cell_type": "code",
   "execution_count": null,
   "id": "980b1ed8",
   "metadata": {},
   "outputs": [],
   "source": []
  }
 ],
 "metadata": {
  "kernelspec": {
   "display_name": "Python 3",
   "language": "python",
   "name": "python3"
  },
  "language_info": {
   "codemirror_mode": {
    "name": "ipython",
    "version": 3
   },
   "file_extension": ".py",
   "mimetype": "text/x-python",
   "name": "python",
   "nbconvert_exporter": "python",
   "pygments_lexer": "ipython3",
   "version": "3.8.8"
  }
 },
 "nbformat": 4,
 "nbformat_minor": 5
}
