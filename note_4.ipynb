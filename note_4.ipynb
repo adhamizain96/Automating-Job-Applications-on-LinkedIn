{
 "cells": [
  {
   "cell_type": "code",
   "execution_count": 9,
   "id": "5e2fb23e",
   "metadata": {},
   "outputs": [
    {
     "name": "stderr",
     "output_type": "stream",
     "text": [
      "<ipython-input-9-f587ddd16469>:6: DeprecationWarning: executable_path has been deprecated, please pass in a Service object\n",
      "  driver = webdriver.Chrome(executable_path)\n",
      "<ipython-input-9-f587ddd16469>:17: DeprecationWarning: find_element_by_* commands are deprecated. Please use find_element() instead\n",
      "  search_bar = driver.find_element_by_name('search')\n"
     ]
    }
   ],
   "source": [
    "#pip install selenium - import the necessary packages - webdriver/keys\n",
    "from selenium import webdriver\n",
    "from selenium.webdriver.common.keys import Keys\n",
    "\n",
    "executable_path = ''\n",
    "driver = webdriver.Chrome(executable_path)\n",
    "driver.get('https://en.wikipedia.org/wiki/Main_Page')\n",
    "\n",
    "#<div id='articlecount'> - note - inside a dic you have to put a # sign\n",
    "#article_count = driver.find_element_by_css_selector('#articlecount a')\n",
    "#print(article_count.text) - 6,443,341\n",
    "#article_count.click()\n",
    "\n",
    "#all_portals = driver.find_element_by_link_text('All portals')\n",
    "#all_portals.click()\n",
    "\n",
    "search_bar = driver.find_element_by_name('search')\n",
    "search_bar.send_keys('Python')\n",
    "search_bar.send_keys(Keys.ENTER)\n",
    "\n",
    "driver.quit()"
   ]
  },
  {
   "cell_type": "code",
   "execution_count": 10,
   "id": "0cc3041d",
   "metadata": {},
   "outputs": [
    {
     "name": "stderr",
     "output_type": "stream",
     "text": [
      "<ipython-input-10-616e40e1966c>:6: DeprecationWarning: executable_path has been deprecated, please pass in a Service object\n",
      "  driver = webdriver.Chrome(executable_path)\n",
      "<ipython-input-10-616e40e1966c>:9: DeprecationWarning: find_element_by_* commands are deprecated. Please use find_element() instead\n",
      "  first_name = driver.find_element_by_name('fName')\n",
      "<ipython-input-10-616e40e1966c>:12: DeprecationWarning: find_element_by_* commands are deprecated. Please use find_element() instead\n",
      "  last_name = driver.find_element_by_name('lName')\n",
      "<ipython-input-10-616e40e1966c>:15: DeprecationWarning: find_element_by_* commands are deprecated. Please use find_element() instead\n",
      "  email = driver.find_element_by_name('email')\n",
      "<ipython-input-10-616e40e1966c>:18: DeprecationWarning: find_element_by_* commands are deprecated. Please use find_element() instead\n",
      "  sign_up_button = driver.find_element_by_css_selector('form button')\n"
     ]
    }
   ],
   "source": [
    "#pip install selenium - import the necessary packages - webdriver/keys\n",
    "from selenium import webdriver\n",
    "from selenium.webdriver.common.keys import Keys\n",
    "\n",
    "executable_path = ''\n",
    "driver = webdriver.Chrome(executable_path)\n",
    "driver.get('http://secure-retreat-92358.herokuapp.com/')\n",
    "\n",
    "first_name = driver.find_element_by_name('fName')\n",
    "first_name.send_keys('')\n",
    "\n",
    "last_name = driver.find_element_by_name('lName')\n",
    "last_name.send_keys('')\n",
    "\n",
    "email = driver.find_element_by_name('email')\n",
    "email.send_keys('')\n",
    "\n",
    "sign_up_button = driver.find_element_by_css_selector('form button')\n",
    "sign_up_button.send_keys(Keys.ENTER)\n",
    "\n",
    "driver.quit()"
   ]
  },
  {
   "cell_type": "code",
   "execution_count": null,
   "id": "e152136e",
   "metadata": {},
   "outputs": [],
   "source": []
  }
 ],
 "metadata": {
  "kernelspec": {
   "display_name": "Python 3",
   "language": "python",
   "name": "python3"
  },
  "language_info": {
   "codemirror_mode": {
    "name": "ipython",
    "version": 3
   },
   "file_extension": ".py",
   "mimetype": "text/x-python",
   "name": "python",
   "nbconvert_exporter": "python",
   "pygments_lexer": "ipython3",
   "version": "3.8.8"
  }
 },
 "nbformat": 4,
 "nbformat_minor": 5
}
