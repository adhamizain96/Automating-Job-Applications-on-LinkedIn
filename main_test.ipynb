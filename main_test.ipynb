{
 "cells": [
  {
   "cell_type": "code",
   "execution_count": null,
   "id": "f9cc49b8",
   "metadata": {},
   "outputs": [],
   "source": [
    "#pip install selenium - import the necessary packages - webdriver/keys\n",
    "from selenium import webdriver\n",
    "from selenium.webdriver.common.keys import Keys   \n",
    "import time\n",
    "\n",
    "#constants\n",
    "email = ''   \n",
    "password = ''\n",
    "phone_number = ''\n",
    "\n",
    "#driver - webdriver.Chrome('this is where the chrome driver goes')\n",
    "#look at the documentation - https://selenium-python.readthedocs.io/api.html\n",
    "executable_path = ''\n",
    "driver = webdriver.Chrome(executable_path)\n",
    "driver.get('')\n",
    "\n",
    "time.sleep(5)\n",
    "\n",
    "#note - find_element_by_* commands are deprecated\n",
    "sing_in_button = driver.find_element_by_link_text('Sign in')\n",
    "sing_in_button.click()\n",
    "\n",
    "time.sleep(5)\n",
    "\n",
    "#note - form_textfield = driver.find_element_by_name('username')\n",
    "#note - form_textfield.send_keys('admin')\n",
    "#note - .find_element_by_id()/.send_keys()\n",
    "email_field = driver.find_element_by_id('username')   \n",
    "email_field.send_keys(email)\n",
    "\n",
    "password_field = driver.find_element_by_id('password')\n",
    "password_field.send_keys(password)\n",
    "#https://stackoverflow.com/questions/1629053/typing-the-enter-return-key-in-selenium\n",
    "#note - typing the Enter/Return key in Selenium\n",
    "#note - you do not have to click the Sign in button\n",
    "password_field.send_keys(Keys.ENTER) \n",
    "\n",
    "time.sleep(5)   \n",
    "\n",
    "#note - .find_element_by_css_selector()/.click()\n",
    "easy_apply = driver.find_element_by_css_selector('.jobs-s-apply button')\n",
    "easy_apply.click()\n",
    "\n",
    "time.sleep(5)\n",
    "\n",
    "#note - enter the phone number if the field is blank\n",
    "phone = driver.find_element_by_class_name('fb-single-line-text__input')\n",
    "#create a for loop - selenium object not a text\n",
    "if phone.text == '':\n",
    "    phone.send_keys(phone_number)\n",
    "    \n",
    "#<footer role=\"presentation\">\n",
    "submit_button = driver.find_element_by_css_selector('footer button')\n",
    "submit_button.click()   "
   ]
  }
 ],
 "metadata": {
  "kernelspec": {
   "display_name": "Python 3",
   "language": "python",
   "name": "python3"
  },
  "language_info": {
   "codemirror_mode": {
    "name": "ipython",
    "version": 3
   },
   "file_extension": ".py",
   "mimetype": "text/x-python",
   "name": "python",
   "nbconvert_exporter": "python",
   "pygments_lexer": "ipython3",
   "version": "3.8.8"
  }
 },
 "nbformat": 4,
 "nbformat_minor": 5
}
