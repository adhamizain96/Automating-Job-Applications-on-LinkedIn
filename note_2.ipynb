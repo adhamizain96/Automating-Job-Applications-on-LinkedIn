{
 "cells": [
  {
   "cell_type": "code",
   "execution_count": 14,
   "id": "e431b196",
   "metadata": {},
   "outputs": [
    {
     "name": "stderr",
     "output_type": "stream",
     "text": [
      "<ipython-input-14-037a2f8a671e>:5: DeprecationWarning: executable_path has been deprecated, please pass in a Service object\n",
      "  driver = webdriver.Chrome(executable_path)\n",
      "<ipython-input-14-037a2f8a671e>:8: DeprecationWarning: find_elements_by_* commands are deprecated. Please use find_elements() instead\n",
      "  event_dates = driver.find_elements_by_css_selector('.event-widget time')\n",
      "<ipython-input-14-037a2f8a671e>:12: DeprecationWarning: find_elements_by_* commands are deprecated. Please use find_elements() instead\n",
      "  event_info = driver.find_elements_by_css_selector('.event-widget li a')\n"
     ]
    },
    {
     "name": "stdout",
     "output_type": "stream",
     "text": [
      "{0: {'date': '2022-01-29', 'info': 'PyCamp Leipzig 2022'}, 1: {'date': '2022-02-05', 'info': 'PyCascades Remote 2020'}, 2: {'date': '2022-02-18', 'info': 'Kiwi PyCon'}, 3: {'date': '2022-02-23', 'info': 'A deep dive into Fairness in Machine Learning using Fairlearn - PyLadies Amsterdam'}, 4: {'date': '2022-03-21', 'info': 'Python Web Conference 2022'}}\n"
     ]
    }
   ],
   "source": [
    "#pip install selenium - import the necessary packages - webdriver/keys\n",
    "from selenium import webdriver\n",
    "\n",
    "executable_path = ''\n",
    "driver = webdriver.Chrome(executable_path)\n",
    "driver.get('https://www.python.org/')\n",
    "\n",
    "event_dates = driver.find_elements_by_css_selector('.event-widget time')\n",
    "#print(dates)\n",
    "\n",
    "#inside a <li></li>/<a></a> tag\n",
    "event_info = driver.find_elements_by_css_selector('.event-widget li a')\n",
    "\n",
    "#create a for loop - selenium object not a text\n",
    "#note - {0: {'date': '2022-01-29', 'info': 'PyCamp Leipzig 2022'} - this is how the dictionary is supposed to look like\n",
    "#note - {key: {date_key:date_value}, {info_key:info_value}}\n",
    "events = {}\n",
    "for event in range(len(event_dates)):\n",
    "    events[event] = {\n",
    "        'date': event_dates[event].text,\n",
    "        'info': event_info[event].text,\n",
    "    }\n",
    "\n",
    "print(events)\n",
    "driver.quit()"
   ]
  },
  {
   "cell_type": "code",
   "execution_count": null,
   "id": "c03ddc18",
   "metadata": {},
   "outputs": [],
   "source": []
  }
 ],
 "metadata": {
  "kernelspec": {
   "display_name": "Python 3",
   "language": "python",
   "name": "python3"
  },
  "language_info": {
   "codemirror_mode": {
    "name": "ipython",
    "version": 3
   },
   "file_extension": ".py",
   "mimetype": "text/x-python",
   "name": "python",
   "nbconvert_exporter": "python",
   "pygments_lexer": "ipython3",
   "version": "3.8.8"
  }
 },
 "nbformat": 4,
 "nbformat_minor": 5
}
